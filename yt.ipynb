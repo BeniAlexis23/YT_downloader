{
 "cells": [
  {
   "cell_type": "code",
   "execution_count": 1,
   "metadata": {},
   "outputs": [],
   "source": [
    "#!pip install pytube\n",
    "import pytube"
   ]
  },
  {
   "cell_type": "code",
   "execution_count": 2,
   "metadata": {},
   "outputs": [
    {
     "data": {
      "text/plain": [
       "'c:\\\\Users\\\\beni_\\\\OneDrive\\\\Escritorio\\\\wsp_masivo\\\\YTdonwloader\\\\💥Choque de Poderes  Ultra Big Bang Kamehameha vs Final Kamehameha Dragon Ball Fighterz.mp4'"
      ]
     },
     "execution_count": 2,
     "metadata": {},
     "output_type": "execute_result"
    }
   ],
   "source": [
    "#Guardar video en directorio actual\n",
    "download_loc = \"./\"\n",
    "\n",
    "#ingresar URL\n",
    "video_url = input(\"Ingresa URL:\")\n",
    "\n",
    "#Instancia YT\n",
    "video_instance = pytube.YouTube(video_url)\n",
    "\n",
    "stream = video_instance.streams.get_highest_resolution()\n",
    "\n",
    "#Descarga\n",
    "stream.download()"
   ]
  }
 ],
 "metadata": {
  "kernelspec": {
   "display_name": "Python 3",
   "language": "python",
   "name": "python3"
  },
  "language_info": {
   "codemirror_mode": {
    "name": "ipython",
    "version": 3
   },
   "file_extension": ".py",
   "mimetype": "text/x-python",
   "name": "python",
   "nbconvert_exporter": "python",
   "pygments_lexer": "ipython3",
   "version": "3.11.4"
  },
  "orig_nbformat": 4
 },
 "nbformat": 4,
 "nbformat_minor": 2
}
